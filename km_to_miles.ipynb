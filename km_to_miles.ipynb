{
  "nbformat": 4,
  "nbformat_minor": 0,
  "metadata": {
    "colab": {
      "name": "km to miles",
      "private_outputs": true,
      "provenance": [],
      "authorship_tag": "ABX9TyMn9LcaJKBmbszX7lAN1VRJ",
      "include_colab_link": true
    },
    "kernelspec": {
      "name": "python3",
      "display_name": "Python 3"
    },
    "language_info": {
      "name": "python"
    }
  },
  "cells": [
    {
      "cell_type": "markdown",
      "metadata": {
        "id": "view-in-github",
        "colab_type": "text"
      },
      "source": [
        "<a href=\"https://colab.research.google.com/github/Mithileshmishra/python-programmes/blob/main/km_to_miles.ipynb\" target=\"_parent\"><img src=\"https://colab.research.google.com/assets/colab-badge.svg\" alt=\"Open In Colab\"/></a>"
      ]
    },
    {
      "cell_type": "code",
      "metadata": {
        "id": "E7d0RD4I3Suy"
      },
      "source": [
        "\n",
        "kilometers = float(input('How many kilometers?: '))  \n",
        "\n",
        "conv_fac = 0.621371  \n",
        "\n",
        "miles = kilometers * conv_fac  \n",
        "print('%0.3f kilometers is equal to %0.3f miles' %(kilometers,miles))  "
      ],
      "execution_count": null,
      "outputs": []
    }
  ]
}