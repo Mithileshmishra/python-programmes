{
  "nbformat": 4,
  "nbformat_minor": 0,
  "metadata": {
    "colab": {
      "name": "split and km to miles",
      "private_outputs": true,
      "provenance": [],
      "authorship_tag": "ABX9TyMmOXE5nBuJw9AJFqyLzDpN",
      "include_colab_link": true
    },
    "kernelspec": {
      "name": "python3",
      "display_name": "Python 3"
    },
    "language_info": {
      "name": "python"
    }
  },
  "cells": [
    {
      "cell_type": "markdown",
      "metadata": {
        "id": "view-in-github",
        "colab_type": "text"
      },
      "source": [
        "<a href=\"https://colab.research.google.com/github/Mithileshmishra/python-programmes/blob/main/split_and_km_to_miles.ipynb\" target=\"_parent\"><img src=\"https://colab.research.google.com/assets/colab-badge.svg\" alt=\"Open In Colab\"/></a>"
      ]
    },
    {
      "cell_type": "code",
      "metadata": {
        "id": "E7d0RD4I3Suy"
      },
      "source": [
        "\n",
        "kilometers = float(input('How many kilometers?: '))  \n",
        "\n",
        "conv_fac = 0.621371  \n",
        "\n",
        "miles = kilometers * conv_fac  \n",
        "print('%0.3f kilometers is equal to %0.3f miles' %(kilometers,miles))  "
      ],
      "execution_count": null,
      "outputs": []
    },
    {
      "cell_type": "code",
      "metadata": {
        "id": "gKK1Qe3U4CGm"
      },
      "source": [
        "\n",
        "text = 'geeks for geeks'\n",
        "  \n",
        "# Splits at space\n",
        "print(text.split())\n",
        "  \n",
        "word = 'geeks, for, geeks'\n",
        "  \n",
        "# Splits at ','\n",
        "print(word.split(','))\n",
        "  \n",
        "word = 'geeks:for:geeks'\n",
        "  \n",
        "# Splitting at ':'\n",
        "print(word.split(':'))\n",
        "  \n",
        "word = 'CatBatSatFatOr'\n",
        "  \n",
        "# Splitting at t\n",
        "print(word.split('t'))"
      ],
      "execution_count": null,
      "outputs": []
    }
  ]
}