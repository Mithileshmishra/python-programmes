{
  "nbformat": 4,
  "nbformat_minor": 0,
  "metadata": {
    "colab": {
      "name": "if else arithmetic.ipynb",
      "provenance": [],
      "collapsed_sections": [],
      "authorship_tag": "ABX9TyNo6XXSG+BBIlyleLsK6yre",
      "include_colab_link": true
    },
    "kernelspec": {
      "name": "python3",
      "display_name": "Python 3"
    },
    "language_info": {
      "name": "python"
    }
  },
  "cells": [
    {
      "cell_type": "markdown",
      "metadata": {
        "id": "view-in-github",
        "colab_type": "text"
      },
      "source": [
        "<a href=\"https://colab.research.google.com/github/Mithileshmishra/python-programmes/blob/main/if_else_arithmetic.ipynb\" target=\"_parent\"><img src=\"https://colab.research.google.com/assets/colab-badge.svg\" alt=\"Open In Colab\"/></a>"
      ]
    },
    {
      "cell_type": "code",
      "metadata": {
        "id": "jd_xHoBLb-d0"
      },
      "source": [
        "num1 = int(input(\"1st no \"))\n",
        "num2 = int(input(\"wnd no \"))\n",
        "\n",
        "print(\" operation \")\n",
        "ch = input(\"+,-,*,/: \")\n",
        "\n",
        "result = 0\n",
        "if ch == '+':\n",
        "    result = num1 + num2\n",
        "elif ch == '-':\n",
        "    result = num1 - num2\n",
        "elif ch == '*':\n",
        "    result = num1 * num2\n",
        "elif ch == '/':\n",
        "    result = num1 / num2\n",
        "else:\n",
        "    print(\"sorry\")\n",
        "\n",
        "print(num1, ch , num2, \":\", result)"
      ],
      "execution_count": null,
      "outputs": []
    }
  ]
}