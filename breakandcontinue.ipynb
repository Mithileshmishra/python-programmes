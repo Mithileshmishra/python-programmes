{
  "nbformat": 4,
  "nbformat_minor": 0,
  "metadata": {
    "colab": {
      "name": "breakandcontinue.ipynb",
      "provenance": [],
      "authorship_tag": "ABX9TyM27DQxHdC8uJ1HAogZ/Bjb",
      "include_colab_link": true
    },
    "kernelspec": {
      "name": "python3",
      "display_name": "Python 3"
    },
    "language_info": {
      "name": "python"
    }
  },
  "cells": [
    {
      "cell_type": "markdown",
      "metadata": {
        "id": "view-in-github",
        "colab_type": "text"
      },
      "source": [
        "<a href=\"https://colab.research.google.com/github/Mithileshmishra/python-programmes/blob/main/breakandcontinue.ipynb\" target=\"_parent\"><img src=\"https://colab.research.google.com/assets/colab-badge.svg\" alt=\"Open In Colab\"/></a>"
      ]
    },
    {
      "cell_type": "code",
      "metadata": {
        "colab": {
          "base_uri": "https://localhost:8080/"
        },
        "id": "lUTrmI-XHC3W",
        "outputId": "7dc1c905-8c73-4e91-9811-af5359de4afd"
      },
      "source": [
        "numbers = [1, 5, 8, 10, 20, 2, 7, 18, 29] \n",
        "nsum = 0\n",
        "j = 0\n",
        "for x in numbers:\n",
        "    nsum = nsum + x\n",
        "    j = j + 1 \n",
        "    if j == 5:\n",
        "        break\n",
        "print(\"Sum of first \",j,\"integers is: \", nsum)"
      ],
      "execution_count": 1,
      "outputs": [
        {
          "output_type": "stream",
          "text": [
            "Sum of first  5 integers is:  44\n"
          ],
          "name": "stdout"
        }
      ]
    },
    {
      "cell_type": "code",
      "metadata": {
        "colab": {
          "base_uri": "https://localhost:8080/"
        },
        "id": "HsBrSc_nHsgw",
        "outputId": "a2daffbc-5c40-48da-d013-250406d3fecc"
      },
      "source": [
        "for i in range(4):\n",
        "    if i==2:\n",
        "        continue\n",
        "    print(i)"
      ],
      "execution_count": 2,
      "outputs": [
        {
          "output_type": "stream",
          "text": [
            "0\n",
            "1\n",
            "3\n"
          ],
          "name": "stdout"
        }
      ]
    }
  ]
}