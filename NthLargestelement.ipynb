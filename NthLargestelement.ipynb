{
  "nbformat": 4,
  "nbformat_minor": 0,
  "metadata": {
    "colab": {
      "name": "NthLargestelement.ipynb",
      "private_outputs": true,
      "provenance": [],
      "authorship_tag": "ABX9TyOZ5/Tlm5vJIu2KjQrENjeE",
      "include_colab_link": true
    },
    "kernelspec": {
      "name": "python3",
      "display_name": "Python 3"
    },
    "language_info": {
      "name": "python"
    }
  },
  "cells": [
    {
      "cell_type": "markdown",
      "metadata": {
        "id": "view-in-github",
        "colab_type": "text"
      },
      "source": [
        "<a href=\"https://colab.research.google.com/github/Mithileshmishra/python-programmes/blob/main/NthLargestelement.ipynb\" target=\"_parent\"><img src=\"https://colab.research.google.com/assets/colab-badge.svg\" alt=\"Open In Colab\"/></a>"
      ]
    },
    {
      "cell_type": "code",
      "metadata": {
        "id": "N0YyR9hKJspq"
      },
      "source": [
        ""
      ],
      "execution_count": null,
      "outputs": []
    },
    {
      "cell_type": "markdown",
      "metadata": {
        "id": "E60Mw03hJtdf"
      },
      "source": [
        "### **Nth highest no.**\n"
      ]
    },
    {
      "cell_type": "code",
      "metadata": {
        "id": "KkcdQZYUJ1Sn"
      },
      "source": [
        "lst = []\n",
        " \n",
        "# number of elements as input\n",
        "n = int(input(\"Enter number of elements : \"))\n",
        " \n",
        "# iterating till the range\n",
        "for i in range(0, n):\n",
        "    ele = int(input())\n",
        " \n",
        "    lst.append(ele) # adding the element\n",
        "     \n",
        "lst.sort()\n",
        "num=int(input(\"enter the n to find nth largest element\"))\n",
        "print(\"The answer is\",lst[-num])"
      ],
      "execution_count": null,
      "outputs": []
    },
    {
      "cell_type": "code",
      "metadata": {
        "id": "kQuIbhv0J7-n"
      },
      "source": [
        ""
      ],
      "execution_count": null,
      "outputs": []
    }
  ]
}