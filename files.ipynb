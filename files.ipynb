{
 "cells": [
  {
   "cell_type": "code",
   "execution_count": null,
   "metadata": {
    "collapsed": true
   },
   "outputs": [],
   "source": [
    "path = \"data/datafile.txt\"\n",
    "fileObj = open( path )"
   ]
  },
  {
   "cell_type": "code",
   "execution_count": null,
   "metadata": {
    "collapsed": true
   },
   "outputs": [],
   "source": [
    "open( \"data/myfile.txt\", \"r\" ) # open for reading, default"
   ]
  },
  {
   "cell_type": "code",
   "execution_count": null,
   "metadata": {
    "collapsed": true
   },
   "outputs": [],
   "source": [
    "open( \"data/myfile.txt\", \"w\" ) # open for writing (existing files will be overwritten)"
   ]
  },
  {
   "cell_type": "code",
   "execution_count": null,
   "metadata": {
    "collapsed": true
   },
   "outputs": [],
   "source": [
    "open( \"data/myfile.txt\", \"a\" ) # open for appending"
   ]
  },
  {
   "cell_type": "code",
   "execution_count": null,
   "metadata": {
    "collapsed": true
   },
   "outputs": [],
   "source": [
    "fileObj.close()"
   ]
  },
  {
   "cell_type": "code",
   "execution_count": null,
   "metadata": {
    "collapsed": true
   },
   "outputs": [],
   "source": [
    "fileObj = open( \"data/datafile.txt\" )\n",
    "print(fileObj.read()) # everything\n",
    "fileObj.close()"
   ]
  },
  {
   "cell_type": "code",
   "execution_count": null,
   "metadata": {
    "collapsed": true
   },
   "outputs": [],
   "source": [
    "# one line at a time\n",
    "fileObj = open( \"data/datafile.txt\" )\n",
    "print(\"1st line:\", fileObj.readline())\n",
    "print(\"2nd line:\", fileObj.readline())\n",
    "print(\"3rd line:\", fileObj.readline())\n",
    "print(\"4th line:\", fileObj.readline())\n",
    "fileObj.close()"
   ]
  },
  {
   "cell_type": "code",
   "execution_count": null,
   "metadata": {
    "collapsed": true
   },
   "outputs": [],
   "source": [
    "# all lines\n",
    "fileObj = open( \"data/datafile.txt\" )\n",
    "\n",
    "lines = fileObj.readlines()\n",
    "\n",
    "print(\"The file has\", len(lines), \"lines\")\n",
    "\n",
    "fileObj.close()"
   ]
  },
  {
   "cell_type": "code",
   "execution_count": null,
   "metadata": {
    "collapsed": true
   },
   "outputs": [],
   "source": [
    "# as an iterable\n",
    "fileObj = open( \"data/datafile.txt\" )\n",
    "\n",
    "for line in fileObj:\n",
    "    print(line.rstrip().upper())\n",
    "\n",
    "fileObj.close()"
   ]
  },
  {
   "cell_type": "code",
   "execution_count": null,
   "metadata": {
    "collapsed": true
   },
   "outputs": [],
   "source": [
    "# fileObj will be closed when leaving the block\n",
    "with open( \"data/datafile.txt\" ) as fileObj:\n",
    "    for ( i, line ) in enumerate( fileObj, start = 1 ):\n",
    "        print(\"%s: %r\" % ( i, line ))"
   ]
  },
  {
   "cell_type": "code",
   "execution_count": 2,
   "metadata": {
    "collapsed": true
   },
   "outputs": [],
   "source": [
    "marks = {\n",
    "    'Luttapi': 43,\n",
    "    'Dagini': 32,\n",
    "    'Mayavi': 34\n",
    "}\n",
    "\n",
    "with open( \"out.txt\", \"w\" ) as output:\n",
    "    output.write(\"Name\\tMark\\n\")\n",
    "\n",
    "    for mark in marks:\n",
    "        line = \"\\t\".join( [ mark, str(marks[mark]) ] )\n",
    "        output.write(line + \"\\n\")"
   ]
  },
  {
   "cell_type": "code",
   "execution_count": null,
   "metadata": {
    "collapsed": true
   },
   "outputs": [],
   "source": [
    "results = []\n",
    "\n",
    "with open(\"data/mydata.txt\", \"r\") as data:\n",
    "    header = data.readline()\n",
    "    for line in data:\n",
    "        line = line.strip()\n",
    "        results.append(line.split(\" \"))\n",
    "        \n",
    "print(results)"
   ]
  },
  {
   "cell_type": "code",
   "execution_count": null,
   "metadata": {
    "collapsed": true
   },
   "outputs": [],
   "source": [
    "results = []\n",
    "\n",
    "with open(\"data/mydata.txt\", \"r\") as data:\n",
    "    header = data.readline()\n",
    "    for line in data:\n",
    "        idx, org, score = line.strip().split(\" \")\n",
    "        row = {'Index': int(idx), 'Organism': org, 'Score': float(score)}\n",
    "        results.append(row)\n",
    "        \n",
    "print(results)\n",
    "print('Score of first row:', results[0]['Score'])"
   ]
  },
  {
   "cell_type": "code",
   "execution_count": null,
   "metadata": {
    "collapsed": true
   },
   "outputs": [],
   "source": [
    "mydata = [{'Organism': 'Human', 'Index': 1, 'Score': 1.076}, \n",
    "          {'Organism': 'Mouse', 'Index': 2, 'Score': 1.202}, \n",
    "          {'Organism': 'Frog', 'Index': 3, 'Score': 2.2362}, \n",
    "          {'Organism': 'Fly', 'Index': 4, 'Score': 0.9853}]\n",
    "\n",
    "with open('data/mydata.csv', 'w') as output:\n",
    "    # write a header\n",
    "    header = \",\".join(['Index', 'Organism', 'Score'])\n",
    "    output.write(header + \"\\n\")\n",
    "    for row in mydata:\n",
    "        line = \",\".join([str(row['Index']), row['Organism'], str(row['Score'])])\n",
    "        output.write(line + \"\\n\")"
   ]
  },
  {
   "cell_type": "code",
   "execution_count": null,
   "metadata": {
    "collapsed": true
   },
   "outputs": [],
   "source": [
    "import math\n",
    "print(math.pi, math.e)"
   ]
  },
  {
   "cell_type": "code",
   "execution_count": null,
   "metadata": {
    "collapsed": true
   },
   "outputs": [],
   "source": [
    "import math as m\n",
    "print(m.pi, m.e)"
   ]
  },
  {
   "cell_type": "code",
   "execution_count": null,
   "metadata": {
    "collapsed": true
   },
   "outputs": [],
   "source": [
    "from math import pi, e\n",
    "print(pi, e)"
   ]
  },
  {
   "cell_type": "code",
   "execution_count": null,
   "metadata": {
    "collapsed": true
   },
   "outputs": [],
   "source": [
    "from math import pi\n",
    "from math import e"
   ]
  },
  {
   "cell_type": "code",
   "execution_count": null,
   "metadata": {
    "collapsed": true
   },
   "outputs": [],
   "source": [
    "import math\n",
    "dir(math)"
   ]
  },
  {
   "cell_type": "code",
   "execution_count": null,
   "metadata": {
    "collapsed": true
   },
   "outputs": [],
   "source": [
    "dir(\"mystring\")"
   ]
  },
  {
   "cell_type": "code",
   "execution_count": null,
   "metadata": {
    "collapsed": true
   },
   "outputs": [],
   "source": [
    "dir(str)"
   ]
  },
  {
   "cell_type": "code",
   "execution_count": null,
   "metadata": {
    "collapsed": true
   },
   "outputs": [],
   "source": [
    "help(str.title)"
   ]
  },
  {
   "cell_type": "code",
   "execution_count": null,
   "metadata": {
    "collapsed": true
   },
   "outputs": [],
   "source": [
    "import csv\n",
    "with open(\"data/mydata.txt\") as f:\n",
    "    reader = csv.reader(f, delimiter = \" \") # default delimiter is \",\"\n",
    "    for row in reader:\n",
    "        print(row)"
   ]
  },
  {
   "cell_type": "code",
   "execution_count": null,
   "metadata": {
    "collapsed": true
   },
   "outputs": [],
   "source": [
    "with open(\"data/mydata.txt\") as f:\n",
    "    reader = csv.DictReader(f, delimiter = \" \")\n",
    "    for row in reader:\n",
    "        print(row)"
   ]
  },
  {
   "cell_type": "code",
   "execution_count": null,
   "metadata": {
    "collapsed": true
   },
   "outputs": [],
   "source": [
    "# Write tab delimited files using the csv module\n",
    "import csv\n",
    "\n",
    "mydata = [\n",
    "    ['1', 'Human', '1.076'], \n",
    "    ['2', 'Mouse', '1.202'], \n",
    "    ['3', 'Frog', '2.2362'], \n",
    "    ['4', 'Fly', '0.9853']\n",
    "]\n",
    "\n",
    "with open(\"csvdata.tsv\", \"w\") as f:\n",
    "    writer = csv.writer(f, delimiter='\\t' )\n",
    "    writer.writerow( [ \"Index\", \"Organism\", \"Score\" ] ) # write header\n",
    "    for record in mydata:\n",
    "        writer.writerow( record )\n",
    "\n",
    "# Open the output file and print out its content\n",
    "with open(\"csvdata.tsv\") as f:\n",
    "    print(f.read())"
   ]
  },
  {
   "cell_type": "code",
   "execution_count": null,
   "metadata": {
    "collapsed": true
   },
   "outputs": [],
   "source": [
    "# Write delimited files using the csv module from a list of dictionaries \n",
    "import csv\n",
    "\n",
    "mydata = [\n",
    "    {'Index': '1', 'Score': '1.076', 'Organism': 'Human'}, \n",
    "    {'Index': '2', 'Score': '1.202', 'Organism': 'Mouse'}, \n",
    "    {'Index': '3', 'Score': '2.2362', 'Organism': 'Frog'}, \n",
    "    {'Index': '4', 'Score': '0.9853', 'Organism': 'Fly'}\n",
    "]\n",
    "\n",
    "with open(\"csvdictdata.tsv\", \"w\") as f:\n",
    "    writer = csv.DictWriter(f, mydata[0].keys(), delimiter='\\t')\n",
    "    writer.writeheader() # write header\n",
    "\n",
    "    for record in mydata:\n",
    "        writer.writerow( record )\n",
    "\n",
    "# Open the output file and print out its content\n",
    "with open(\"csvdictdata.tsv\") as f:\n",
    "    print(f.read())"
   ]
  },
  {
   "cell_type": "code",
   "execution_count": null,
   "metadata": {
    "collapsed": true
   },
   "outputs": [],
   "source": [
    "import os.path\n",
    "os.path.join(\"data\", \"mydata.txt\")\n",
    "# data/mydata.txt - Unix\n",
    "# data\\mydata.txt - Windows"
   ]
  },
  {
   "cell_type": "code",
   "execution_count": null,
   "metadata": {
    "collapsed": true
   },
   "outputs": [],
   "source": [
    "import os.path\n",
    "data_file = os.path.join(\"data\", \"mydata.txt\")\n",
    "if os.path.exists(data_file):\n",
    "    print(\"file\", data_file, \"exists\")\n",
    "    with open(data_file) as f:\n",
    "        print(f.read())\n",
    "else:\n",
    "    print(\"file\", data_file, \"not found!\")"
   ]
  }
 ],
 "metadata": {
  "kernelspec": {
   "display_name": "Python 3",
   "language": "python",
   "name": "python3"
  },
  "language_info": {
   "codemirror_mode": {
    "name": "ipython",
    "version": 3
   },
   "file_extension": ".py",
   "mimetype": "text/x-python",
   "name": "python",
   "nbconvert_exporter": "python",
   "pygments_lexer": "ipython3",
   "version": "3.7.10"
  }
 },
 "nbformat": 4,
 "nbformat_minor": 1
}
