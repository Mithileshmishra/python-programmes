{
  "nbformat": 4,
  "nbformat_minor": 0,
  "metadata": {
    "colab": {
      "name": "dailyassignment2WAP.ipynb",
      "private_outputs": true,
      "provenance": [],
      "authorship_tag": "ABX9TyMBqwr1Cupz0/LmJ0ivmmht",
      "include_colab_link": true
    },
    "kernelspec": {
      "name": "python3",
      "display_name": "Python 3"
    },
    "language_info": {
      "name": "python"
    }
  },
  "cells": [
    {
      "cell_type": "markdown",
      "metadata": {
        "id": "view-in-github",
        "colab_type": "text"
      },
      "source": [
        "<a href=\"https://colab.research.google.com/github/Mithileshmishra/python-programmes/blob/main/dailyassignment2WAPupdated.ipynb\" target=\"_parent\"><img src=\"https://colab.research.google.com/assets/colab-badge.svg\" alt=\"Open In Colab\"/></a>"
      ]
    },
    {
      "cell_type": "code",
      "metadata": {
        "id": "9HhOu7gng0K5"
      },
      "source": [
        "number = int(input (\"enter a number for which u want to see multiplication table \"))      \n",
        "print (\"The Multiplication Table is as follows\")    \n",
        "for count in range(1, 11):      \n",
        "   print (number, 'x', count, '=', number * count)  "
      ],
      "execution_count": null,
      "outputs": []
    },
    {
      "cell_type": "code",
      "metadata": {
        "id": "TrNs6iEoiXnH"
      },
      "source": [
        "num = int(input (\"enter a number to find the sum \"))  \n",
        "sum = 0\n",
        "\n",
        "while(num > 0):\n",
        "    sum += num\n",
        "    num -= 1\n",
        "print(\"The sum is\", sum)"
      ],
      "execution_count": null,
      "outputs": []
    },
    {
      "cell_type": "code",
      "metadata": {
        "id": "LGWqEQtRlImP"
      },
      "source": [
        "num = int(input(\"Enter a number: \"))    \n",
        "factorial = 1    \n",
        "for i in range(1,num + 1):    \n",
        "       factorial = factorial*i    \n",
        "print(\"The factorial of\",num,\"is\",factorial)  "
      ],
      "execution_count": null,
      "outputs": []
    },
    {
      "cell_type": "code",
      "metadata": {
        "id": "tPO2yPi4oatF"
      },
      "source": [
        "n=int(input(\"Enter the number of months u want to calculate average salary of \"))\n",
        "a=[]\n",
        "for i in range(0,n):\n",
        "    elem=int(input(\"Enter salary/month: \"))\n",
        "    a.append(elem)\n",
        "avg=sum(a)/n\n",
        "print(\"Average salary is:\",round(avg,2))"
      ],
      "execution_count": null,
      "outputs": []
    },
    {
      "cell_type": "code",
      "metadata": {
        "id": "7SC04hp4orZV"
      },
      "source": [
        ""
      ],
      "execution_count": null,
      "outputs": []
    }
  ]
}