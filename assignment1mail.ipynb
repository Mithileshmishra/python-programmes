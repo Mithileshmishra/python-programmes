{
  "nbformat": 4,
  "nbformat_minor": 0,
  "metadata": {
    "colab": {
      "name": "assignment1mail.ipynb",
      "private_outputs": true,
      "provenance": [],
      "authorship_tag": "ABX9TyMZYhcptE8/0SHsZB+j2ZcG",
      "include_colab_link": true
    },
    "kernelspec": {
      "name": "python3",
      "display_name": "Python 3"
    },
    "language_info": {
      "name": "python"
    }
  },
  "cells": [
    {
      "cell_type": "markdown",
      "metadata": {
        "id": "view-in-github",
        "colab_type": "text"
      },
      "source": [
        "<a href=\"https://colab.research.google.com/github/Mithileshmishra/python-programmes/blob/main/assignment1mail.ipynb\" target=\"_parent\"><img src=\"https://colab.research.google.com/assets/colab-badge.svg\" alt=\"Open In Colab\"/></a>"
      ]
    },
    {
      "cell_type": "code",
      "metadata": {
        "id": "FHwsavolFLrX"
      },
      "source": [
        "mail_ids=[\n",
        "          \"gg@gmail.com\",\"hi@gmail.com\"\n",
        "]\n",
        "count=0\n",
        "for i in mail_ids:\n",
        "    count +=1\n",
        "print(count)"
      ],
      "execution_count": null,
      "outputs": []
    },
    {
      "cell_type": "code",
      "metadata": {
        "id": "ToG_vQsfGZkN"
      },
      "source": [
        "words=[]\n",
        "for i in mail_ids:\n",
        "    words.append(i.split('@'))\n",
        "print(words)"
      ],
      "execution_count": null,
      "outputs": []
    },
    {
      "cell_type": "code",
      "metadata": {
        "id": "coEXZ4u7G5hZ"
      },
      "source": [
        "g=0\n",
        "for i in words:\n",
        "    if(i[1]==\"gmail.com\"):\n",
        "        g +=1\n",
        "print(g)"
      ],
      "execution_count": null,
      "outputs": []
    },
    {
      "cell_type": "code",
      "metadata": {
        "id": "HHsQh9N0HUrP"
      },
      "source": [
        ""
      ],
      "execution_count": null,
      "outputs": []
    }
  ]
}