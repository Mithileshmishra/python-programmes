{
  "nbformat": 4,
  "nbformat_minor": 0,
  "metadata": {
    "colab": {
      "name": "practicelistanddict.ipynb",
      "private_outputs": true,
      "provenance": [],
      "authorship_tag": "ABX9TyNobtK6UAoQJXnRu39VUkRZ",
      "include_colab_link": true
    },
    "kernelspec": {
      "name": "python3",
      "display_name": "Python 3"
    },
    "language_info": {
      "name": "python"
    }
  },
  "cells": [
    {
      "cell_type": "markdown",
      "metadata": {
        "id": "view-in-github",
        "colab_type": "text"
      },
      "source": [
        "<a href=\"https://colab.research.google.com/github/Mithileshmishra/python-programmes/blob/main/practicelistanddict.ipynb\" target=\"_parent\"><img src=\"https://colab.research.google.com/assets/colab-badge.svg\" alt=\"Open In Colab\"/></a>"
      ]
    },
    {
      "cell_type": "code",
      "metadata": {
        "id": "ml__B7-IEizb"
      },
      "source": [
        "a = 33 \n",
        "b = 200 \n",
        "if b > a:\n",
        "    print(\"b is greater than a\")\n",
        "print(a)\n",
        "print(b)"
      ],
      "execution_count": null,
      "outputs": []
    },
    {
      "cell_type": "code",
      "metadata": {
        "id": "YNQ_hdq_ExMS"
      },
      "source": [
        "d = { \"hii\" : 1, \"hello\" : 2 ,\"gfg\" :3}\n",
        "print(d[\"gfg\"])   # 2\n",
        "some_dict = {}\n",
        "some_dict[\"hii\"] = \"hello\"\n",
        "print(some_dict.keys())"
      ],
      "execution_count": null,
      "outputs": []
    },
    {
      "cell_type": "code",
      "metadata": {
        "id": "v9ydlW6YFaeu"
      },
      "source": [
        ""
      ],
      "execution_count": null,
      "outputs": []
    }
  ]
}